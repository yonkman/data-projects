{
 "cells": [
  {
   "cell_type": "code",
   "execution_count": 20,
   "metadata": {},
   "outputs": [
    {
     "name": "stdout",
     "output_type": "stream",
     "text": [
      "I will be interviewed by @seanhannity at 9:00 P.M. on @FoxNews. Enjoy!\n",
      "\n",
      "Everyone MUST watch the opening to @TuckerCarlson - A Classic! @foxnews\n",
      "\n",
      "THANK YOU to our generous hosts in Hanoi this week: President Trong, Prime Minister Phuc, and the wonderful people… https://t.co/dYi5WHA50b\n",
      "\n",
      "RT @StateDept: President @realDonaldTrump and @SecPompeo participate in a Press Conference in Hanoi, Vietnam, on February 28, 2019. https:/…\n",
      "\n",
      "RT @realDonaldTrump: Michael Cohen was one of many lawyers who represented me (unfortunately). He had other clients also. He was just disba…\n",
      "\n"
     ]
    },
    {
     "data": {
      "text/plain": [
       "['__add__',\n",
       " '__class__',\n",
       " '__contains__',\n",
       " '__delattr__',\n",
       " '__delitem__',\n",
       " '__dict__',\n",
       " '__dir__',\n",
       " '__doc__',\n",
       " '__eq__',\n",
       " '__format__',\n",
       " '__ge__',\n",
       " '__getattribute__',\n",
       " '__getitem__',\n",
       " '__gt__',\n",
       " '__hash__',\n",
       " '__iadd__',\n",
       " '__imul__',\n",
       " '__init__',\n",
       " '__init_subclass__',\n",
       " '__iter__',\n",
       " '__le__',\n",
       " '__len__',\n",
       " '__lt__',\n",
       " '__module__',\n",
       " '__mul__',\n",
       " '__ne__',\n",
       " '__new__',\n",
       " '__reduce__',\n",
       " '__reduce_ex__',\n",
       " '__repr__',\n",
       " '__reversed__',\n",
       " '__rmul__',\n",
       " '__setattr__',\n",
       " '__setitem__',\n",
       " '__sizeof__',\n",
       " '__str__',\n",
       " '__subclasshook__',\n",
       " '__weakref__',\n",
       " '_max_id',\n",
       " '_since_id',\n",
       " 'append',\n",
       " 'clear',\n",
       " 'copy',\n",
       " 'count',\n",
       " 'extend',\n",
       " 'ids',\n",
       " 'index',\n",
       " 'insert',\n",
       " 'max_id',\n",
       " 'pop',\n",
       " 'remove',\n",
       " 'reverse',\n",
       " 'since_id',\n",
       " 'sort']"
      ]
     },
     "execution_count": 20,
     "metadata": {},
     "output_type": "execute_result"
    }
   ],
   "source": [
    "from tweepy import OAuthHandler \n",
    "from tweepy import API\n",
    "import json\n",
    "\n",
    "# obtain free API key: \n",
    "# https://developer.twitter.com/en/docs/basics/authentication/guides/access-tokens.html\n",
    "consumer_key = \"SUuqUxf2K3hiPSUCcUSwvkVlu\"\n",
    "consumer_secret = \"KHGoQG1BBnhhI2xoZQLoFo9MnlrvMbdg0LGo7dD1hB8NMSvizf\"\n",
    "access_token = \"1078941783306846208-G7jZdgFsnTXT9kwlFRimO5e4AYAYxc\"\n",
    "access_token_secret = \"eDgEqYNSijBKYIHZcraq73x43WzTYiVVnZRVKMgHpdP6T\"\n",
    "\n",
    "auth = OAuthHandler(consumer_key, consumer_secret)\n",
    "auth.set_access_token(access_token, access_token_secret)\n",
    "api = API(auth)\n",
    "# we can query this api object for data from twitter\n",
    "\n",
    "tweets = api.user_timeline(screen_name='@realDonaldTrump',count=5) \n",
    "\n",
    "# limited to 200 per request\n",
    "for i in range(len(tweets)):\n",
    "    print(tweets[i].text)\n",
    "    print()"
   ]
  },
  {
   "cell_type": "markdown",
   "metadata": {},
   "source": [
    "Twitter provides up to 200 tweets per query via this method up to a total of the user's 3240 most recent tweets. @realDonaldTrump has tweeted much more than this: as of January 2019, 3240 tweets represents approximately a 10-month history."
   ]
  },
  {
   "cell_type": "code",
   "execution_count": 2,
   "metadata": {},
   "outputs": [
    {
     "name": "stdout",
     "output_type": "stream",
     "text": [
      "40689\n"
     ]
    }
   ],
   "source": [
    "print(api.get_user(screen_name='@realDonaldTrump').statuses_count) \n",
    "# total since account creation in May 2009"
   ]
  },
  {
   "cell_type": "markdown",
   "metadata": {},
   "source": [
    "Since the API is too restrictive to collect a full history, let's load a json file from a third-party archive:\n",
    "http://www.trumptwitterarchive.com/archive"
   ]
  },
  {
   "cell_type": "code",
   "execution_count": 3,
   "metadata": {},
   "outputs": [
    {
     "data": {
      "text/html": [
       "<div>\n",
       "<style scoped>\n",
       "    .dataframe tbody tr th:only-of-type {\n",
       "        vertical-align: middle;\n",
       "    }\n",
       "\n",
       "    .dataframe tbody tr th {\n",
       "        vertical-align: top;\n",
       "    }\n",
       "\n",
       "    .dataframe thead th {\n",
       "        text-align: right;\n",
       "    }\n",
       "</style>\n",
       "<table border=\"1\" class=\"dataframe\">\n",
       "  <thead>\n",
       "    <tr style=\"text-align: right;\">\n",
       "      <th></th>\n",
       "      <th>created_at</th>\n",
       "      <th>favorite_count</th>\n",
       "      <th>id_str</th>\n",
       "      <th>is_retweet</th>\n",
       "      <th>retweet_count</th>\n",
       "      <th>source</th>\n",
       "      <th>text</th>\n",
       "    </tr>\n",
       "  </thead>\n",
       "  <tbody>\n",
       "    <tr>\n",
       "      <th>0</th>\n",
       "      <td>2019-01-09 20:34:46</td>\n",
       "      <td>191731</td>\n",
       "      <td>1083099784012091392</td>\n",
       "      <td>0.0</td>\n",
       "      <td>45931</td>\n",
       "      <td>Twitter for iPad</td>\n",
       "      <td>Just left a meeting with Chuck and Nancy, a to...</td>\n",
       "    </tr>\n",
       "    <tr>\n",
       "      <th>1</th>\n",
       "      <td>2019-01-09 19:31:29</td>\n",
       "      <td>89540</td>\n",
       "      <td>1083083858357248000</td>\n",
       "      <td>0.0</td>\n",
       "      <td>21900</td>\n",
       "      <td>Twitter for iPhone</td>\n",
       "      <td>Thank you to all of America's brave police, de...</td>\n",
       "    </tr>\n",
       "    <tr>\n",
       "      <th>2</th>\n",
       "      <td>2019-01-09 15:25:43</td>\n",
       "      <td>104118</td>\n",
       "      <td>1083022011574747136</td>\n",
       "      <td>0.0</td>\n",
       "      <td>24088</td>\n",
       "      <td>Twitter for iPhone</td>\n",
       "      <td>Billions of dollars are sent to the State of C...</td>\n",
       "    </tr>\n",
       "    <tr>\n",
       "      <th>3</th>\n",
       "      <td>2019-01-09 14:36:05</td>\n",
       "      <td>30626</td>\n",
       "      <td>1083009519503003648</td>\n",
       "      <td>0.0</td>\n",
       "      <td>7635</td>\n",
       "      <td>Twitter for iPhone</td>\n",
       "      <td>Billions of dollars are sent to the State of C...</td>\n",
       "    </tr>\n",
       "    <tr>\n",
       "      <th>4</th>\n",
       "      <td>2019-01-09 14:06:09</td>\n",
       "      <td>137562</td>\n",
       "      <td>1083001986331672576</td>\n",
       "      <td>0.0</td>\n",
       "      <td>29217</td>\n",
       "      <td>Twitter for iPhone</td>\n",
       "      <td>Our Country is doing so well in so many ways. ...</td>\n",
       "    </tr>\n",
       "  </tbody>\n",
       "</table>\n",
       "</div>"
      ],
      "text/plain": [
       "           created_at  favorite_count               id_str  is_retweet  \\\n",
       "0 2019-01-09 20:34:46          191731  1083099784012091392         0.0   \n",
       "1 2019-01-09 19:31:29           89540  1083083858357248000         0.0   \n",
       "2 2019-01-09 15:25:43          104118  1083022011574747136         0.0   \n",
       "3 2019-01-09 14:36:05           30626  1083009519503003648         0.0   \n",
       "4 2019-01-09 14:06:09          137562  1083001986331672576         0.0   \n",
       "\n",
       "   retweet_count              source  \\\n",
       "0          45931    Twitter for iPad   \n",
       "1          21900  Twitter for iPhone   \n",
       "2          24088  Twitter for iPhone   \n",
       "3           7635  Twitter for iPhone   \n",
       "4          29217  Twitter for iPhone   \n",
       "\n",
       "                                                text  \n",
       "0  Just left a meeting with Chuck and Nancy, a to...  \n",
       "1  Thank you to all of America's brave police, de...  \n",
       "2  Billions of dollars are sent to the State of C...  \n",
       "3  Billions of dollars are sent to the State of C...  \n",
       "4  Our Country is doing so well in so many ways. ...  "
      ]
     },
     "execution_count": 3,
     "metadata": {},
     "output_type": "execute_result"
    }
   ],
   "source": [
    "import pandas as pd\n",
    "\n",
    "alltweets_df = pd.read_json('theTorrent.json') # create a DataFrame object of all tweets\n",
    "# source: http://www.trumptwitterarchive.com/archive\n",
    "# retrieved Jan 9 \n",
    "\n",
    "alltweets_df.head(5)"
   ]
  },
  {
   "cell_type": "code",
   "execution_count": 4,
   "metadata": {},
   "outputs": [
    {
     "data": {
      "text/plain": [
       "(36443, 7)"
      ]
     },
     "execution_count": 4,
     "metadata": {},
     "output_type": "execute_result"
    }
   ],
   "source": [
    "alltweets_df.shape"
   ]
  },
  {
   "cell_type": "markdown",
   "metadata": {},
   "source": [
    "Here is a quick script to count how often a subject is tweeted about."
   ]
  },
  {
   "cell_type": "code",
   "execution_count": 5,
   "metadata": {},
   "outputs": [
    {
     "data": {
      "text/plain": [
       "346"
      ]
     },
     "execution_count": 5,
     "metadata": {},
     "output_type": "execute_result"
    }
   ],
   "source": [
    "def count_tweets(search_str):\n",
    "    count = 0\n",
    "    for index, row in alltweets_df.iterrows():\n",
    "        if search_str in row['text'].lower():\n",
    "            count += 1\n",
    "        \n",
    "    return count\n",
    "# end\n",
    "\n",
    "count_tweets('fake news')"
   ]
  },
  {
   "cell_type": "markdown",
   "metadata": {},
   "source": [
    "Let's use this script to count mentions of a few countries."
   ]
  },
  {
   "cell_type": "code",
   "execution_count": 6,
   "metadata": {},
   "outputs": [
    {
     "data": {
      "text/plain": [
       "101"
      ]
     },
     "execution_count": 6,
     "metadata": {},
     "output_type": "execute_result"
    }
   ],
   "source": [
    "count_tweets('canada')"
   ]
  },
  {
   "cell_type": "code",
   "execution_count": 7,
   "metadata": {},
   "outputs": [
    {
     "data": {
      "text/plain": [
       "201"
      ]
     },
     "execution_count": 7,
     "metadata": {},
     "output_type": "execute_result"
    }
   ],
   "source": [
    "count_tweets('mexico')"
   ]
  },
  {
   "cell_type": "code",
   "execution_count": 8,
   "metadata": {},
   "outputs": [
    {
     "data": {
      "text/plain": [
       "415"
      ]
     },
     "execution_count": 8,
     "metadata": {},
     "output_type": "execute_result"
    }
   ],
   "source": [
    "count_tweets('russia')"
   ]
  },
  {
   "cell_type": "code",
   "execution_count": 9,
   "metadata": {},
   "outputs": [
    {
     "data": {
      "text/plain": [
       "551"
      ]
     },
     "execution_count": 9,
     "metadata": {},
     "output_type": "execute_result"
    }
   ],
   "source": [
    "count_tweets('china')"
   ]
  },
  {
   "cell_type": "code",
   "execution_count": 10,
   "metadata": {},
   "outputs": [
    {
     "data": {
      "text/plain": [
       "308"
      ]
     },
     "execution_count": 10,
     "metadata": {},
     "output_type": "execute_result"
    }
   ],
   "source": [
    "count_tweets('iran')"
   ]
  },
  {
   "cell_type": "code",
   "execution_count": 11,
   "metadata": {},
   "outputs": [
    {
     "data": {
      "text/plain": [
       "170"
      ]
     },
     "execution_count": 11,
     "metadata": {},
     "output_type": "execute_result"
    }
   ],
   "source": [
    "count_tweets('iraq')"
   ]
  },
  {
   "cell_type": "code",
   "execution_count": 12,
   "metadata": {},
   "outputs": [
    {
     "data": {
      "text/plain": [
       "2"
      ]
     },
     "execution_count": 12,
     "metadata": {},
     "output_type": "execute_result"
    }
   ],
   "source": [
    "count_tweets('sweden') # both re: the terrorist attack he invented there"
   ]
  },
  {
   "cell_type": "markdown",
   "metadata": {},
   "source": [
    "The script below populates a dictionary with each unique word then sorts the result by frequency."
   ]
  },
  {
   "cell_type": "code",
   "execution_count": 13,
   "metadata": {},
   "outputs": [],
   "source": [
    "import re\n",
    "\n",
    "def the_best_words(alltweets_df):\n",
    "    \n",
    "    count = 0\n",
    "    all_count = 0\n",
    "    words = {}\n",
    "    \n",
    "    for i in range(len(alltweets_df)):\n",
    "        for word in alltweets_df['text'].loc[i].lower().split(' '):\n",
    "            all_count += 1\n",
    "\n",
    "            regex = re.compile('[^a-zA-Z]')\n",
    "            word = regex.sub('', word) # remove all non-alphabetic chars\n",
    "\n",
    "            if word in words: # \n",
    "                words[word] += 1\n",
    "            else:\n",
    "                words[word] = 1\n",
    "                count += 1\n",
    "        \n",
    "    words_df = pd.DataFrame.from_dict(words, orient='index', columns=['count'])\n",
    "    words_df = words_df.sort_values('count', ascending=False)\n",
    "    # remove some common words\n",
    "    remove_words = ['', 'the', 'to', 'a', 'and', 'is', 'of', 'in', 'you', 'for', 'i', 'on', 'be', 'will', 'it', 'are',\n",
    "                   'that', 'with', 'we', 'have', 'at', 'amp', 'our', 'my', 'he', 'this', 'not', 'was', 'all', 'your',\n",
    "                    'by', 'has', 'they', 'so', 'just', 'as', 'us', 'from', 'who', 'do', 'his', 'what', 'if', 'no',\n",
    "                    'get', 'but', 'would', 'about', 'an', 'dont', 'its']\n",
    "    \n",
    "    words_df = words_df.drop(remove_words)\n",
    "\n",
    "    return words_df"
   ]
  },
  {
   "cell_type": "code",
   "execution_count": 14,
   "metadata": {},
   "outputs": [
    {
     "data": {
      "text/html": [
       "<div>\n",
       "<style scoped>\n",
       "    .dataframe tbody tr th:only-of-type {\n",
       "        vertical-align: middle;\n",
       "    }\n",
       "\n",
       "    .dataframe tbody tr th {\n",
       "        vertical-align: top;\n",
       "    }\n",
       "\n",
       "    .dataframe thead th {\n",
       "        text-align: right;\n",
       "    }\n",
       "</style>\n",
       "<table border=\"1\" class=\"dataframe\">\n",
       "  <thead>\n",
       "    <tr style=\"text-align: right;\">\n",
       "      <th></th>\n",
       "      <th>count</th>\n",
       "    </tr>\n",
       "  </thead>\n",
       "  <tbody>\n",
       "    <tr>\n",
       "      <th>realdonaldtrump</th>\n",
       "      <td>8685</td>\n",
       "    </tr>\n",
       "    <tr>\n",
       "      <th>trump</th>\n",
       "      <td>5585</td>\n",
       "    </tr>\n",
       "    <tr>\n",
       "      <th>great</th>\n",
       "      <td>5108</td>\n",
       "    </tr>\n",
       "    <tr>\n",
       "      <th>thank</th>\n",
       "      <td>2335</td>\n",
       "    </tr>\n",
       "    <tr>\n",
       "      <th>president</th>\n",
       "      <td>2306</td>\n",
       "    </tr>\n",
       "    <tr>\n",
       "      <th>thanks</th>\n",
       "      <td>2023</td>\n",
       "    </tr>\n",
       "    <tr>\n",
       "      <th>people</th>\n",
       "      <td>1967</td>\n",
       "    </tr>\n",
       "    <tr>\n",
       "      <th>donald</th>\n",
       "      <td>1727</td>\n",
       "    </tr>\n",
       "    <tr>\n",
       "      <th>very</th>\n",
       "      <td>1676</td>\n",
       "    </tr>\n",
       "    <tr>\n",
       "      <th>me</th>\n",
       "      <td>1660</td>\n",
       "    </tr>\n",
       "    <tr>\n",
       "      <th>new</th>\n",
       "      <td>1503</td>\n",
       "    </tr>\n",
       "    <tr>\n",
       "      <th>america</th>\n",
       "      <td>1491</td>\n",
       "    </tr>\n",
       "    <tr>\n",
       "      <th>out</th>\n",
       "      <td>1476</td>\n",
       "    </tr>\n",
       "    <tr>\n",
       "      <th>now</th>\n",
       "      <td>1450</td>\n",
       "    </tr>\n",
       "    <tr>\n",
       "      <th>country</th>\n",
       "      <td>1427</td>\n",
       "    </tr>\n",
       "    <tr>\n",
       "      <th>like</th>\n",
       "      <td>1385</td>\n",
       "    </tr>\n",
       "    <tr>\n",
       "      <th>can</th>\n",
       "      <td>1375</td>\n",
       "    </tr>\n",
       "    <tr>\n",
       "      <th>obama</th>\n",
       "      <td>1371</td>\n",
       "    </tr>\n",
       "    <tr>\n",
       "      <th>more</th>\n",
       "      <td>1352</td>\n",
       "    </tr>\n",
       "    <tr>\n",
       "      <th>make</th>\n",
       "      <td>1335</td>\n",
       "    </tr>\n",
       "    <tr>\n",
       "      <th>time</th>\n",
       "      <td>1305</td>\n",
       "    </tr>\n",
       "    <tr>\n",
       "      <th>good</th>\n",
       "      <td>1297</td>\n",
       "    </tr>\n",
       "    <tr>\n",
       "      <th>one</th>\n",
       "      <td>1281</td>\n",
       "    </tr>\n",
       "    <tr>\n",
       "      <th>should</th>\n",
       "      <td>1263</td>\n",
       "    </tr>\n",
       "    <tr>\n",
       "      <th>big</th>\n",
       "      <td>1231</td>\n",
       "    </tr>\n",
       "    <tr>\n",
       "      <th>up</th>\n",
       "      <td>1193</td>\n",
       "    </tr>\n",
       "    <tr>\n",
       "      <th>rt</th>\n",
       "      <td>1118</td>\n",
       "    </tr>\n",
       "    <tr>\n",
       "      <th>when</th>\n",
       "      <td>1090</td>\n",
       "    </tr>\n",
       "    <tr>\n",
       "      <th>run</th>\n",
       "      <td>1085</td>\n",
       "    </tr>\n",
       "    <tr>\n",
       "      <th>many</th>\n",
       "      <td>1050</td>\n",
       "    </tr>\n",
       "  </tbody>\n",
       "</table>\n",
       "</div>"
      ],
      "text/plain": [
       "                 count\n",
       "realdonaldtrump   8685\n",
       "trump             5585\n",
       "great             5108\n",
       "thank             2335\n",
       "president         2306\n",
       "thanks            2023\n",
       "people            1967\n",
       "donald            1727\n",
       "very              1676\n",
       "me                1660\n",
       "new               1503\n",
       "america           1491\n",
       "out               1476\n",
       "now               1450\n",
       "country           1427\n",
       "like              1385\n",
       "can               1375\n",
       "obama             1371\n",
       "more              1352\n",
       "make              1335\n",
       "time              1305\n",
       "good              1297\n",
       "one               1281\n",
       "should            1263\n",
       "big               1231\n",
       "up                1193\n",
       "rt                1118\n",
       "when              1090\n",
       "run               1085\n",
       "many              1050"
      ]
     },
     "execution_count": 14,
     "metadata": {},
     "output_type": "execute_result"
    }
   ],
   "source": [
    "words_df = the_best_words(alltweets_df)\n",
    "words_df.head(30)"
   ]
  },
  {
   "cell_type": "code",
   "execution_count": null,
   "metadata": {},
   "outputs": [],
   "source": []
  }
 ],
 "metadata": {
  "kernelspec": {
   "display_name": "Python 3",
   "language": "python",
   "name": "python3"
  },
  "language_info": {
   "codemirror_mode": {
    "name": "ipython",
    "version": 3
   },
   "file_extension": ".py",
   "mimetype": "text/x-python",
   "name": "python",
   "nbconvert_exporter": "python",
   "pygments_lexer": "ipython3",
   "version": "3.7.1"
  }
 },
 "nbformat": 4,
 "nbformat_minor": 2
}
