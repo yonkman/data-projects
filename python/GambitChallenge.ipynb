{
 "cells": [
  {
   "cell_type": "code",
   "execution_count": 3,
   "metadata": {},
   "outputs": [
    {
     "name": "stdout",
     "output_type": "stream",
     "text": [
      "\n",
      "\t\t<HTML>\n",
      "\t\t<HEAD>\n",
      "\t\t<TITLE> Gambit Research Job Application Page </TITLE>\n",
      "\t\t<script type=\"text/javascript\">\n",
      "\t\tfunction scramble(ascii,a,b,c) {\n",
      "\t\t\tfor(i=0; i<ascii.length; i++) {\n",
      "\t\t\t\tif (i%3==0) {ascii[i]=(ascii[i]+a)%256;}\n",
      "\t\t\t\tif (i%3==1) {ascii[i]=(ascii[i]+b)%256;}\n",
      "\t\t\t\tif (i%3==2) {ascii[i]=(ascii[i]+c)%256;}\n",
      "\t\t\t}\n",
      "\t\t\treturn ascii;\n",
      "\t\t}\n",
      "\t\t</script>\n",
      "\t\t</HEAD>\n",
      "\t\t<BODY>\n",
      "\t\tThe cipher below contains instructions on how to apply for a job<BR><BR>\n",
      "\t\t112 175 112 148 185 48 72 141 115 150 177 118 137 190 121 148 171 120 145 185 114 155 106 106 151 188 36 155 185 112 158 179 114 143 106 120 144 175 36 111 171 113 138 179 120 72 173 108 137 182 112 141 184 107 141 120 36 120 182 105 137 189 105 72 189 105 150 174 36 161 185 121 154 106 119 151 182 121 156 179 115 150 106 101 150 174 36 107 160 36 156 185 36 145 173 101 150 173 115 140 175 68 143 171 113 138 179 120 154 175 119 141 171 118 139 178 50 139 185 113 72 187 121 151 190 109 150 177 36 154 175 106 141 188 105 150 173 105 98 106 55 96 131 105 90 124 58 140 122 59 86\n",
      "\t\t</BODY>\n",
      "\t\t</HTML>\n"
     ]
    },
    {
     "data": {
      "image/png": "[encoded data removed]",
      "text/plain": [
       "<Figure size 432x288 with 1 Axes>"
      ]
     },
     "metadata": {
      "needs_background": "light"
     },
     "output_type": "display_data"
    }
   ],
   "source": [
    "from urllib.request import Request, urlopen\n",
    "import matplotlib.pyplot as plt\n",
    "import numpy as np\n",
    "import pandas as pd\n",
    "url = 'https://www.gambitresearch.com/quiz/'\n",
    "req = Request(url) \n",
    "html = urlopen(req).read().decode('utf-8', 'ignore')\n",
    "print(html)\n",
    "# print(html[445:-17].strip())\n",
    "\n",
    "nums_str = html[445:-17].strip() # just the numbers\n",
    "nums_list = nums_str.split(' ')\n",
    "nums = np.ndarray(len(nums_list))\n",
    "\n",
    "# print(len(nums_list)) # 151\n",
    "nums_0 = np.ndarray(51)\n",
    "nums_1 = np.ndarray(50)\n",
    "nums_2 = np.ndarray(50)\n",
    "for i in range(len(nums_list)):\n",
    "    nums[i] = int(nums_list[i])\n",
    "    if i % 3 == 0:\n",
    "        nums_0[int(i/3)] = int(nums_list[i])\n",
    "    elif i % 3 == 1:\n",
    "        nums_1[int(i/3)] = int(nums_list[i])\n",
    "    elif i % 3 == 2:\n",
    "        nums_2[int(i/3)] = int(nums_list[i])\n",
    "\n",
    "plt.hist(nums_0, bins=256)\n",
    "plt.show()"
   ]
  },
  {
   "cell_type": "markdown",
   "metadata": {},
   "source": [
    "looks like most values between 135 and 161, whereas lower case ascii lies from 97-122. so we should try shifting the numbers around 135-97=39 or 161-122=39 "
   ]
  },
  {
   "cell_type": "code",
   "execution_count": 17,
   "metadata": {},
   "outputs": [
    {
     "name": "stdout",
     "output_type": "stream",
     "text": [
      "H\n",
      "l\n",
      " \n",
      "n\n",
      "a\n",
      "l\n",
      "i\n",
      "s\n",
      "o\n",
      "s\n",
      "v\n",
      "g\n",
      "h\n",
      "G\n",
      "b\n",
      " \n",
      "a\n",
      "e\n",
      "e\n",
      "P\n",
      "a\n",
      " \n",
      "n\n",
      "y\n",
      "r\n",
      "o\n",
      "t\n",
      "n\n",
      "n\n",
      "C\n",
      "t\n",
      "i\n",
      "n\n",
      "d\n",
      "g\n",
      "b\n",
      "r\n",
      "e\n",
      "c\n",
      "c\n",
      " \n",
      "o\n",
      "n\n",
      "r\n",
      "e\n",
      "n\n",
      ":\n",
      "8\n",
      "2\n",
      "d\n",
      ".\n"
     ]
    }
   ],
   "source": [
    "for j in range(nums_0.size):\n",
    "    print(chr(int(nums_0[j] - 40) % 256))"
   ]
  },
  {
   "cell_type": "markdown",
   "metadata": {},
   "source": [
    "looks best after some trial and error. repeat with other two:"
   ]
  },
  {
   "cell_type": "code",
   "execution_count": 18,
   "metadata": {},
   "outputs": [
    {
     "data": {
      "image/png": "[encoded data removed]",
      "text/plain": [
       "<Figure size 432x288 with 1 Axes>"
      ]
     },
     "metadata": {
      "needs_background": "light"
     },
     "output_type": "display_data"
    }
   ],
   "source": [
    "plt.hist(nums_1, bins=256)\n",
    "plt.show()"
   ]
  },
  {
   "cell_type": "code",
   "execution_count": 37,
   "metadata": {},
   "outputs": [
    {
     "data": {
      "text/plain": [
       "74"
      ]
     },
     "execution_count": 37,
     "metadata": {},
     "output_type": "execute_result"
    }
   ],
   "source": [
    "171-97"
   ]
  },
  {
   "cell_type": "code",
   "execution_count": 38,
   "metadata": {},
   "outputs": [
    {
     "name": "stdout",
     "output_type": "stream",
     "text": [
      "e\n",
      "o\n",
      "C\n",
      "g\n",
      "t\n",
      "a\n",
      "o\n",
      " \n",
      "r\n",
      "o\n",
      "i\n",
      " \n",
      "e\n",
      "a\n",
      "i\n",
      "c\n",
      "l\n",
      "n\n",
      ".\n",
      "l\n",
      "s\n",
      "s\n",
      "d\n",
      "o\n",
      " \n",
      "l\n",
      "i\n",
      " \n",
      "d\n",
      "V\n",
      "o\n",
      "c\n",
      "c\n",
      "e\n",
      "a\n",
      "i\n",
      "e\n",
      "a\n",
      "h\n",
      "o\n",
      "q\n",
      "t\n",
      "g\n",
      "e\n",
      "r\n",
      "c\n",
      " \n",
      "9\n",
      "2\n",
      "0\n"
     ]
    }
   ],
   "source": [
    "for j in range(nums_1.size):\n",
    "    print(chr(int(nums_1[j] - 74) % 256))"
   ]
  },
  {
   "cell_type": "code",
   "execution_count": 24,
   "metadata": {},
   "outputs": [
    {
     "data": {
      "image/png": "[encoded data removed]",
      "text/plain": [
       "<Figure size 432x288 with 1 Axes>"
      ]
     },
     "metadata": {
      "needs_background": "light"
     },
     "output_type": "display_data"
    }
   ],
   "source": [
    "plt.hist(nums_2, bins=256)\n",
    "plt.show()"
   ]
  },
  {
   "cell_type": "code",
   "execution_count": 25,
   "metadata": {},
   "outputs": [
    {
     "data": {
      "text/plain": [
       "4"
      ]
     },
     "execution_count": 25,
     "metadata": {},
     "output_type": "execute_result"
    }
   ],
   "source": [
    "101-97"
   ]
  },
  {
   "cell_type": "code",
   "execution_count": 27,
   "metadata": {},
   "outputs": [
    {
     "name": "stdout",
     "output_type": "stream",
     "text": [
      "l\n",
      ",\n",
      "o\n",
      "r\n",
      "u\n",
      "t\n",
      "n\n",
      "f\n",
      " \n",
      "l\n",
      "n\n",
      "t\n",
      " \n",
      "m\n",
      "t\n",
      "h\n",
      "l\n",
      "g\n",
      " \n",
      "e\n",
      "e\n",
      "e\n",
      " \n",
      "u\n",
      "s\n",
      "u\n",
      "o\n",
      "a\n",
      " \n",
      " \n",
      " \n",
      "a\n",
      "o\n",
      "@\n",
      "m\n",
      "t\n",
      "s\n",
      "r\n",
      ".\n",
      "m\n",
      "u\n",
      "i\n",
      " \n",
      "f\n",
      "e\n",
      "e\n",
      "3\n",
      "e\n",
      "6\n",
      "7\n"
     ]
    }
   ],
   "source": [
    "for j in range(nums_2.size):\n",
    "    print(chr(int(nums_2[j] - 4) % 256))"
   ]
  },
  {
   "cell_type": "code",
   "execution_count": 36,
   "metadata": {},
   "outputs": [
    {
     "name": "stdout",
     "output_type": "stream",
     "text": [
      "H\n",
      "e\n",
      "l\n",
      "l\n",
      "o\n",
      ",\n",
      " \n",
      "C\n",
      "o\n",
      "n\n",
      "g\n",
      "r\n",
      "a\n",
      "t\n",
      "u\n",
      "l\n",
      "a\n",
      "t\n",
      "i\n",
      "o\n",
      "n\n",
      "s\n",
      " \n",
      "f\n",
      "o\n",
      "r\n",
      " \n",
      "s\n",
      "o\n",
      "l\n",
      "v\n",
      "i\n",
      "n\n",
      "g\n",
      " \n",
      "t\n",
      "h\n",
      "e\n",
      " \n",
      "G\n",
      "a\n",
      "m\n",
      "b\n",
      "i\n",
      "t\n",
      " \n",
      "c\n",
      "h\n",
      "a\n",
      "l\n",
      "l\n",
      "e\n",
      "n\n",
      "g\n",
      "e\n",
      ".\n",
      " \n",
      "P\n",
      "l\n",
      "e\n",
      "a\n",
      "s\n",
      "e\n",
      " \n",
      "s\n",
      "e\n",
      "n\n",
      "d\n",
      " \n",
      "y\n",
      "o\n",
      "u\n",
      "r\n",
      " \n",
      "s\n",
      "o\n",
      "l\n",
      "u\n",
      "t\n",
      "i\n",
      "o\n",
      "n\n",
      " \n",
      "a\n",
      "n\n",
      "d\n",
      " \n",
      "C\n",
      "V\n",
      " \n",
      "t\n",
      "o\n",
      " \n",
      "i\n",
      "c\n",
      "a\n",
      "n\n",
      "c\n",
      "o\n",
      "d\n",
      "e\n",
      "@\n",
      "g\n",
      "a\n",
      "m\n",
      "b\n",
      "i\n",
      "t\n",
      "r\n",
      "e\n",
      "s\n",
      "e\n",
      "a\n",
      "r\n",
      "c\n",
      "h\n",
      ".\n",
      "c\n",
      "o\n",
      "m\n",
      " \n",
      "q\n",
      "u\n",
      "o\n",
      "t\n",
      "i\n",
      "n\n",
      "g\n",
      " \n",
      "r\n",
      "e\n",
      "f\n",
      "e\n",
      "r\n",
      "e\n",
      "n\n",
      "c\n",
      "e\n",
      ":\n",
      " \n",
      "3\n",
      "8\n",
      "9\n",
      "e\n",
      "2\n",
      "2\n",
      "6\n",
      "d\n",
      "0\n",
      "7\n",
      ".\n"
     ]
    }
   ],
   "source": [
    "shift_0 = 40\n",
    "shift_1 = 74\n",
    "shift_2 = 4\n",
    "\n",
    "for i in range(50): \n",
    "    print(chr(int(nums_0[i] - shift_0) % 256))\n",
    "    print(chr(int(nums_1[i] - shift_1) % 256))\n",
    "    print(chr(int(nums_2[i] - shift_2) % 256))\n",
    "print(chr(int(nums_0[50] - shift_0) % 256))"
   ]
  },
  {
   "cell_type": "code",
   "execution_count": null,
   "metadata": {},
   "outputs": [],
   "source": []
  }
 ],
 "metadata": {
  "kernelspec": {
   "display_name": "Python 3",
   "language": "python",
   "name": "python3"
  },
  "language_info": {
   "codemirror_mode": {
    "name": "ipython",
    "version": 3
   },
   "file_extension": ".py",
   "mimetype": "text/x-python",
   "name": "python",
   "nbconvert_exporter": "python",
   "pygments_lexer": "ipython3",
   "version": "3.7.3"
  }
 },
 "nbformat": 4,
 "nbformat_minor": 2
}
