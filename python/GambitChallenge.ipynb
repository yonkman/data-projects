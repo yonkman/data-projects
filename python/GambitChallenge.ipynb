{
 "cells": [
  {
   "cell_type": "code",
   "execution_count": 8,
   "metadata": {},
   "outputs": [
    {
     "name": "stdout",
     "output_type": "stream",
     "text": [
      "\n",
      "\t\t<HTML>\n",
      "\t\t<HEAD>\n",
      "\t\t<TITLE> Gambit Research Job Application Page </TITLE>\n",
      "\t\t<script type=\"text/javascript\">\n",
      "\t\tfunction scramble(ascii,a,b,c) {\n",
      "\t\t\tfor(i=0; i<ascii.length; i++) {\n",
      "\t\t\t\tif (i%3==0) {ascii[i]=(ascii[i]+a)%256;}\n",
      "\t\t\t\tif (i%3==1) {ascii[i]=(ascii[i]+b)%256;}\n",
      "\t\t\t\tif (i%3==2) {ascii[i]=(ascii[i]+c)%256;}\n",
      "\t\t\t}\n",
      "\t\t\treturn ascii;\n",
      "\t\t}\n",
      "\t\t</script>\n",
      "\t\t</HEAD>\n",
      "\t\t<BODY>\n",
      "\t\tThe cipher below contains instructions on how to apply for a job<BR><BR>\n",
      "\t\t46 234 150 82 244 86 6 200 153 84 236 156 71 249 159 82 230 158 79 244 152 89 165 144 85 247 74 89 244 150 92 238 152 77 165 158 78 234 74 45 230 151 72 238 158 6 232 146 71 241 150 75 243 145 75 179 74 54 241 143 71 248 143 6 248 143 84 233 74 95 244 159 88 165 157 85 241 159 90 238 153 84 165 139 84 233 74 41 219 74 90 244 74 79 232 139 84 232 153 74 234 106 77 230 151 72 238 158 88 234 157 75 230 156 73 237 88 73 244 151 6 246 159 85 249 147 84 236 74 88 234 144 75 247 143 84 232 143 32 165 93 30 190 143 24 183 96 74 181 97 20\n",
      "\t\t</BODY>\n",
      "\t\t</HTML>\n"
     ]
    }
   ],
   "source": [
    "from urllib.request import Request, urlopen\n",
    "import matplotlib.pyplot as plt\n",
    "import numpy as np\n",
    "import pandas as pd\n",
    "url = 'https://www.gambitresearch.com/quiz/'\n",
    "req = Request(url) \n",
    "html = urlopen(req).read().decode('utf-8', 'ignore')\n",
    "print(html)"
   ]
  },
  {
   "cell_type": "markdown",
   "metadata": {},
   "source": [
    "The javascript function in the page source appears to take ascii characters and shift them mod 256 by three constants a, b and c. The constants seem to be random as the characters are random with each page load, but I need only one set of a, b and c to decipher the message. I start by saving the numbers to an array as well as an array for each of set of chars shifted by a (nums_0), b (nums_1) and c."
   ]
  },
  {
   "cell_type": "code",
   "execution_count": 9,
   "metadata": {},
   "outputs": [],
   "source": [
    "nums_str = html[445:-17].strip() # just the numbers\n",
    "nums_list = nums_str.split(' ')\n",
    "nums = np.ndarray(len(nums_list))\n",
    "\n",
    "# print(len(nums_list)) # 151\n",
    "nums_0 = np.ndarray(51)\n",
    "nums_1 = np.ndarray(50)\n",
    "nums_2 = np.ndarray(50)\n",
    "for i in range(len(nums_list)):\n",
    "    nums[i] = int(nums_list[i])\n",
    "    if i % 3 == 0:\n",
    "        nums_0[int(i/3)] = int(nums_list[i])\n",
    "    elif i % 3 == 1:\n",
    "        nums_1[int(i/3)] = int(nums_list[i])\n",
    "    elif i % 3 == 2:\n",
    "        nums_2[int(i/3)] = int(nums_list[i])"
   ]
  },
  {
   "cell_type": "markdown",
   "metadata": {},
   "source": [
    "look at a histogram for each set of chars to determine how much they should be shifted to return to original ascii. a histogram of a human-readable ascii message would lie mostly between 97-122, lower case a-z."
   ]
  },
  {
   "cell_type": "code",
   "execution_count": 10,
   "metadata": {},
   "outputs": [
    {
     "data": {
      "image/png": "[encoded data removed]",
      "text/plain": [
       "<Figure size 432x288 with 1 Axes>"
      ]
     },
     "metadata": {
      "needs_background": "light"
     },
     "output_type": "display_data"
    }
   ],
   "source": [
    "plt.hist(nums_0, bins=256)\n",
    "plt.show()"
   ]
  },
  {
   "cell_type": "markdown",
   "metadata": {},
   "source": [
    "looks like most values between 70 and 96, whereas lower case ascii lies from 97-122. so we should try shifting the numbers forward around 97-70=27. repeat this process for the other two histograms."
   ]
  },
  {
   "cell_type": "code",
   "execution_count": 12,
   "metadata": {},
   "outputs": [
    {
     "data": {
      "image/png": "[encoded data removed]",
      "text/plain": [
       "<Figure size 432x288 with 1 Axes>"
      ]
     },
     "metadata": {
      "needs_background": "light"
     },
     "output_type": "display_data"
    }
   ],
   "source": [
    "plt.hist(nums_1, bins=256)\n",
    "plt.show()"
   ]
  },
  {
   "cell_type": "code",
   "execution_count": 20,
   "metadata": {},
   "outputs": [
    {
     "data": {
      "text/plain": [
       "132"
      ]
     },
     "execution_count": 20,
     "metadata": {},
     "output_type": "execute_result"
    }
   ],
   "source": [
    "229-97"
   ]
  },
  {
   "cell_type": "code",
   "execution_count": 14,
   "metadata": {},
   "outputs": [
    {
     "data": {
      "image/png": "[encoded data removed]",
      "text/plain": [
       "<Figure size 432x288 with 1 Axes>"
      ]
     },
     "metadata": {
      "needs_background": "light"
     },
     "output_type": "display_data"
    }
   ],
   "source": [
    "plt.hist(nums_2, bins=256)\n",
    "plt.show()"
   ]
  },
  {
   "cell_type": "code",
   "execution_count": 27,
   "metadata": {},
   "outputs": [
    {
     "data": {
      "text/plain": [
       "42"
      ]
     },
     "execution_count": 27,
     "metadata": {},
     "output_type": "execute_result"
    }
   ],
   "source": [
    "139-97"
   ]
  },
  {
   "cell_type": "markdown",
   "metadata": {},
   "source": [
    "now we can put the string back together, shifted back to the original ascii chars. some trial and error is necessary and looking at an ascii chart helps."
   ]
  },
  {
   "cell_type": "code",
   "execution_count": 26,
   "metadata": {},
   "outputs": [
    {
     "name": "stdout",
     "output_type": "stream",
     "text": [
      "Hello, Congratulations for solving the Gambit challenge. Please send your solution and CV to icancode@gambitresearch.com quoting reference: 389e226d07.\n"
     ]
    }
   ],
   "source": [
    "shift_0 = -26\n",
    "shift_1 = 133\n",
    "shift_2 = 42\n",
    "\n",
    "msg = ''\n",
    "for i in range(50): \n",
    "    msg = msg + chr(int(nums_0[i] - shift_0) % 256)\n",
    "    msg = msg + chr(int(nums_1[i] - shift_1) % 256)\n",
    "    msg = msg + chr(int(nums_2[i] - shift_2) % 256)\n",
    "msg = msg + chr(int(nums_0[50] - shift_0) % 256)\n",
    "    \n",
    "print(msg)"
   ]
  }
 ],
 "metadata": {
  "kernelspec": {
   "display_name": "Python 3",
   "language": "python",
   "name": "python3"
  },
  "language_info": {
   "codemirror_mode": {
    "name": "ipython",
    "version": 3
   },
   "file_extension": ".py",
   "mimetype": "text/x-python",
   "name": "python",
   "nbconvert_exporter": "python",
   "pygments_lexer": "ipython3",
   "version": "3.7.3"
  }
 },
 "nbformat": 4,
 "nbformat_minor": 2
}
